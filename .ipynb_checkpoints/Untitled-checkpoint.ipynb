{
 "cells": [
  {
   "cell_type": "code",
   "execution_count": 8,
   "metadata": {},
   "outputs": [],
   "source": [
    "import numpy as np\n",
    "import pandas as pd\n",
    "\n",
    "import matplotlib.pyplot as plt\n",
    "import seaborn as sns"
   ]
  },
  {
   "cell_type": "code",
   "execution_count": 12,
   "metadata": {},
   "outputs": [
    {
     "name": "stdout",
     "output_type": "stream",
     "text": [
      "NYPD_Shooting_Incident_Data__Historic_.csv\r\n",
      "NYPD_Shootings_Historic_DataDictionary.xlsx\r\n",
      "NYPD_Shootings_Incident_Level_Data_Footnotes (1).pdf\r\n",
      "Untitled.ipynb\r\n"
     ]
    }
   ],
   "source": [
    "ls"
   ]
  },
  {
   "cell_type": "code",
   "execution_count": 33,
   "metadata": {},
   "outputs": [],
   "source": [
    "df = pd.read_csv('NYPD_Shooting_Incident_Data__Historic_.csv')"
   ]
  },
  {
   "cell_type": "code",
   "execution_count": 39,
   "metadata": {},
   "outputs": [
    {
     "data": {
      "text/html": [
       "<div>\n",
       "<style scoped>\n",
       "    .dataframe tbody tr th:only-of-type {\n",
       "        vertical-align: middle;\n",
       "    }\n",
       "\n",
       "    .dataframe tbody tr th {\n",
       "        vertical-align: top;\n",
       "    }\n",
       "\n",
       "    .dataframe thead th {\n",
       "        text-align: right;\n",
       "    }\n",
       "</style>\n",
       "<table border=\"1\" class=\"dataframe\">\n",
       "  <thead>\n",
       "    <tr style=\"text-align: right;\">\n",
       "      <th></th>\n",
       "      <th>incident_key</th>\n",
       "      <th>occur_date</th>\n",
       "      <th>occur_time</th>\n",
       "      <th>boro</th>\n",
       "      <th>precinct</th>\n",
       "      <th>jurisdiction_code</th>\n",
       "      <th>location_desc</th>\n",
       "      <th>statistical_murder_flag</th>\n",
       "      <th>perp_age_group</th>\n",
       "      <th>perp_sex</th>\n",
       "      <th>perp_race</th>\n",
       "      <th>vic_age_group</th>\n",
       "      <th>vic_sex</th>\n",
       "      <th>vic_race</th>\n",
       "      <th>x_coord_cd</th>\n",
       "      <th>y_coord_cd</th>\n",
       "      <th>latitude</th>\n",
       "      <th>longitude</th>\n",
       "    </tr>\n",
       "  </thead>\n",
       "  <tbody>\n",
       "    <tr>\n",
       "      <th>0</th>\n",
       "      <td>169180023</td>\n",
       "      <td>09/09/2017</td>\n",
       "      <td>3:57:00</td>\n",
       "      <td>STATEN ISLAND</td>\n",
       "      <td>120</td>\n",
       "      <td>0.0</td>\n",
       "      <td>NaN</td>\n",
       "      <td>False</td>\n",
       "      <td>NaN</td>\n",
       "      <td>NaN</td>\n",
       "      <td>NaN</td>\n",
       "      <td>25-44</td>\n",
       "      <td>M</td>\n",
       "      <td>BLACK</td>\n",
       "      <td>959975</td>\n",
       "      <td>171772</td>\n",
       "      <td>40.638126</td>\n",
       "      <td>-74.087467</td>\n",
       "    </tr>\n",
       "    <tr>\n",
       "      <th>1</th>\n",
       "      <td>169180027</td>\n",
       "      <td>09/09/2017</td>\n",
       "      <td>22:15:00</td>\n",
       "      <td>BRONX</td>\n",
       "      <td>50</td>\n",
       "      <td>0.0</td>\n",
       "      <td>NaN</td>\n",
       "      <td>False</td>\n",
       "      <td>NaN</td>\n",
       "      <td>NaN</td>\n",
       "      <td>NaN</td>\n",
       "      <td>25-44</td>\n",
       "      <td>M</td>\n",
       "      <td>BLACK HISPANIC</td>\n",
       "      <td>1011288</td>\n",
       "      <td>255912</td>\n",
       "      <td>40.869061</td>\n",
       "      <td>-73.902242</td>\n",
       "    </tr>\n",
       "    <tr>\n",
       "      <th>2</th>\n",
       "      <td>169180025</td>\n",
       "      <td>09/09/2017</td>\n",
       "      <td>18:35:00</td>\n",
       "      <td>BROOKLYN</td>\n",
       "      <td>79</td>\n",
       "      <td>2.0</td>\n",
       "      <td>MULTI DWELL - PUBLIC HOUS</td>\n",
       "      <td>False</td>\n",
       "      <td>NaN</td>\n",
       "      <td>NaN</td>\n",
       "      <td>NaN</td>\n",
       "      <td>18-24</td>\n",
       "      <td>M</td>\n",
       "      <td>BLACK</td>\n",
       "      <td>999888</td>\n",
       "      <td>193014</td>\n",
       "      <td>40.696450</td>\n",
       "      <td>-73.943607</td>\n",
       "    </tr>\n",
       "    <tr>\n",
       "      <th>3</th>\n",
       "      <td>169180024</td>\n",
       "      <td>09/09/2017</td>\n",
       "      <td>15:20:00</td>\n",
       "      <td>BROOKLYN</td>\n",
       "      <td>67</td>\n",
       "      <td>0.0</td>\n",
       "      <td>NaN</td>\n",
       "      <td>False</td>\n",
       "      <td>18-24</td>\n",
       "      <td>M</td>\n",
       "      <td>BLACK</td>\n",
       "      <td>18-24</td>\n",
       "      <td>M</td>\n",
       "      <td>BLACK</td>\n",
       "      <td>997784</td>\n",
       "      <td>172132</td>\n",
       "      <td>40.639137</td>\n",
       "      <td>-73.951236</td>\n",
       "    </tr>\n",
       "    <tr>\n",
       "      <th>4</th>\n",
       "      <td>169180022</td>\n",
       "      <td>09/09/2017</td>\n",
       "      <td>0:20:00</td>\n",
       "      <td>BROOKLYN</td>\n",
       "      <td>61</td>\n",
       "      <td>2.0</td>\n",
       "      <td>MULTI DWELL - PUBLIC HOUS</td>\n",
       "      <td>False</td>\n",
       "      <td>NaN</td>\n",
       "      <td>NaN</td>\n",
       "      <td>NaN</td>\n",
       "      <td>25-44</td>\n",
       "      <td>M</td>\n",
       "      <td>ASIAN / PACIFIC ISLANDER</td>\n",
       "      <td>1001019</td>\n",
       "      <td>156467</td>\n",
       "      <td>40.596134</td>\n",
       "      <td>-73.939619</td>\n",
       "    </tr>\n",
       "  </tbody>\n",
       "</table>\n",
       "</div>"
      ],
      "text/plain": [
       "   incident_key  occur_date occur_time           boro  precinct  \\\n",
       "0     169180023  09/09/2017    3:57:00  STATEN ISLAND       120   \n",
       "1     169180027  09/09/2017   22:15:00          BRONX        50   \n",
       "2     169180025  09/09/2017   18:35:00       BROOKLYN        79   \n",
       "3     169180024  09/09/2017   15:20:00       BROOKLYN        67   \n",
       "4     169180022  09/09/2017    0:20:00       BROOKLYN        61   \n",
       "\n",
       "   jurisdiction_code              location_desc  statistical_murder_flag  \\\n",
       "0                0.0                        NaN                    False   \n",
       "1                0.0                        NaN                    False   \n",
       "2                2.0  MULTI DWELL - PUBLIC HOUS                    False   \n",
       "3                0.0                        NaN                    False   \n",
       "4                2.0  MULTI DWELL - PUBLIC HOUS                    False   \n",
       "\n",
       "  perp_age_group perp_sex perp_race vic_age_group vic_sex  \\\n",
       "0            NaN      NaN       NaN         25-44       M   \n",
       "1            NaN      NaN       NaN         25-44       M   \n",
       "2            NaN      NaN       NaN         18-24       M   \n",
       "3          18-24        M     BLACK         18-24       M   \n",
       "4            NaN      NaN       NaN         25-44       M   \n",
       "\n",
       "                   vic_race x_coord_cd y_coord_cd   latitude  longitude  \n",
       "0                     BLACK     959975     171772  40.638126 -74.087467  \n",
       "1            BLACK HISPANIC    1011288     255912  40.869061 -73.902242  \n",
       "2                     BLACK     999888     193014  40.696450 -73.943607  \n",
       "3                     BLACK     997784     172132  40.639137 -73.951236  \n",
       "4  ASIAN / PACIFIC ISLANDER    1001019     156467  40.596134 -73.939619  "
      ]
     },
     "execution_count": 39,
     "metadata": {},
     "output_type": "execute_result"
    }
   ],
   "source": [
    "df.head()"
   ]
  },
  {
   "cell_type": "code",
   "execution_count": 38,
   "metadata": {},
   "outputs": [
    {
     "data": {
      "text/plain": [
       "Index(['incident_key', 'occur_date', 'occur_time', 'boro', 'precinct',\n",
       "       'jurisdiction_code', 'location_desc', 'statistical_murder_flag',\n",
       "       'perp_age_group', 'perp_sex', 'perp_race', 'vic_age_group', 'vic_sex',\n",
       "       'vic_race', 'x_coord_cd', 'y_coord_cd', 'latitude', 'longitude'],\n",
       "      dtype='object')"
      ]
     },
     "execution_count": 38,
     "metadata": {},
     "output_type": "execute_result"
    }
   ],
   "source": [
    "df.columns"
   ]
  },
  {
   "cell_type": "code",
   "execution_count": 37,
   "metadata": {},
   "outputs": [],
   "source": [
    "#Dont like names so I will change them for easy of use theres no space but in case and lowercase letters\n",
    "df.columns = [i.replace(' ','_').lower() for i in df.columns]"
   ]
  },
  {
   "cell_type": "code",
   "execution_count": 40,
   "metadata": {},
   "outputs": [
    {
     "data": {
      "text/html": [
       "<div>\n",
       "<style scoped>\n",
       "    .dataframe tbody tr th:only-of-type {\n",
       "        vertical-align: middle;\n",
       "    }\n",
       "\n",
       "    .dataframe tbody tr th {\n",
       "        vertical-align: top;\n",
       "    }\n",
       "\n",
       "    .dataframe thead th {\n",
       "        text-align: right;\n",
       "    }\n",
       "</style>\n",
       "<table border=\"1\" class=\"dataframe\">\n",
       "  <thead>\n",
       "    <tr style=\"text-align: right;\">\n",
       "      <th></th>\n",
       "      <th>incident_key</th>\n",
       "      <th>precinct</th>\n",
       "      <th>jurisdiction_code</th>\n",
       "      <th>latitude</th>\n",
       "      <th>longitude</th>\n",
       "    </tr>\n",
       "  </thead>\n",
       "  <tbody>\n",
       "    <tr>\n",
       "      <th>count</th>\n",
       "      <td>2.140800e+04</td>\n",
       "      <td>21408.000000</td>\n",
       "      <td>21406.000000</td>\n",
       "      <td>21408.000000</td>\n",
       "      <td>21408.000000</td>\n",
       "    </tr>\n",
       "    <tr>\n",
       "      <th>mean</th>\n",
       "      <td>9.086174e+07</td>\n",
       "      <td>66.240377</td>\n",
       "      <td>0.326778</td>\n",
       "      <td>40.735809</td>\n",
       "      <td>-73.909238</td>\n",
       "    </tr>\n",
       "    <tr>\n",
       "      <th>std</th>\n",
       "      <td>5.154002e+07</td>\n",
       "      <td>27.075786</td>\n",
       "      <td>0.737971</td>\n",
       "      <td>0.087312</td>\n",
       "      <td>0.066795</td>\n",
       "    </tr>\n",
       "    <tr>\n",
       "      <th>min</th>\n",
       "      <td>9.953245e+06</td>\n",
       "      <td>1.000000</td>\n",
       "      <td>0.000000</td>\n",
       "      <td>40.511586</td>\n",
       "      <td>-74.249304</td>\n",
       "    </tr>\n",
       "    <tr>\n",
       "      <th>25%</th>\n",
       "      <td>5.143890e+07</td>\n",
       "      <td>44.000000</td>\n",
       "      <td>0.000000</td>\n",
       "      <td>40.667910</td>\n",
       "      <td>-73.943353</td>\n",
       "    </tr>\n",
       "    <tr>\n",
       "      <th>50%</th>\n",
       "      <td>8.022698e+07</td>\n",
       "      <td>69.000000</td>\n",
       "      <td>0.000000</td>\n",
       "      <td>40.697583</td>\n",
       "      <td>-73.915508</td>\n",
       "    </tr>\n",
       "    <tr>\n",
       "      <th>75%</th>\n",
       "      <td>1.402865e+08</td>\n",
       "      <td>81.000000</td>\n",
       "      <td>0.000000</td>\n",
       "      <td>40.823118</td>\n",
       "      <td>-73.882072</td>\n",
       "    </tr>\n",
       "    <tr>\n",
       "      <th>max</th>\n",
       "      <td>2.030838e+08</td>\n",
       "      <td>123.000000</td>\n",
       "      <td>2.000000</td>\n",
       "      <td>40.910819</td>\n",
       "      <td>-73.703082</td>\n",
       "    </tr>\n",
       "  </tbody>\n",
       "</table>\n",
       "</div>"
      ],
      "text/plain": [
       "       incident_key      precinct  jurisdiction_code      latitude  \\\n",
       "count  2.140800e+04  21408.000000       21406.000000  21408.000000   \n",
       "mean   9.086174e+07     66.240377           0.326778     40.735809   \n",
       "std    5.154002e+07     27.075786           0.737971      0.087312   \n",
       "min    9.953245e+06      1.000000           0.000000     40.511586   \n",
       "25%    5.143890e+07     44.000000           0.000000     40.667910   \n",
       "50%    8.022698e+07     69.000000           0.000000     40.697583   \n",
       "75%    1.402865e+08     81.000000           0.000000     40.823118   \n",
       "max    2.030838e+08    123.000000           2.000000     40.910819   \n",
       "\n",
       "          longitude  \n",
       "count  21408.000000  \n",
       "mean     -73.909238  \n",
       "std        0.066795  \n",
       "min      -74.249304  \n",
       "25%      -73.943353  \n",
       "50%      -73.915508  \n",
       "75%      -73.882072  \n",
       "max      -73.703082  "
      ]
     },
     "execution_count": 40,
     "metadata": {},
     "output_type": "execute_result"
    }
   ],
   "source": [
    "df.describe()"
   ]
  },
  {
   "cell_type": "markdown",
   "metadata": {},
   "source": [
    "## Cases in each Boro"
   ]
  },
  {
   "cell_type": "code",
   "execution_count": 41,
   "metadata": {},
   "outputs": [
    {
     "data": {
      "text/plain": [
       "BROOKLYN         8829\n",
       "BRONX            6128\n",
       "QUEENS           3198\n",
       "MANHATTAN        2617\n",
       "STATEN ISLAND     636\n",
       "Name: boro, dtype: int64"
      ]
     },
     "execution_count": 41,
     "metadata": {},
     "output_type": "execute_result"
    }
   ],
   "source": [
    "df['boro'].value_counts() "
   ]
  },
  {
   "cell_type": "code",
   "execution_count": null,
   "metadata": {},
   "outputs": [],
   "source": []
  }
 ],
 "metadata": {
  "kernelspec": {
   "display_name": "Python 3",
   "language": "python",
   "name": "python3"
  },
  "language_info": {
   "codemirror_mode": {
    "name": "ipython",
    "version": 3
   },
   "file_extension": ".py",
   "mimetype": "text/x-python",
   "name": "python",
   "nbconvert_exporter": "python",
   "pygments_lexer": "ipython3",
   "version": "3.7.6"
  }
 },
 "nbformat": 4,
 "nbformat_minor": 4
}
